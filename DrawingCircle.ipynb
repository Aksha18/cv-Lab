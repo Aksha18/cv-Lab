{
 "cells": [
  {
   "cell_type": "code",
   "execution_count": 11,
   "metadata": {},
   "outputs": [],
   "source": [
    "# Create a function based on a CV2 Event (Left button click)\n",
    "import cv2\n",
    "cap = cv2.VideoCapture(0)\n",
    "width =int(cap.get(cv2.CAP_PROP_FRAME_WIDTH))\n",
    "height = int(cap.get(cv2.CAP_PROP_FRAME_HEIGHT))\n",
    "writer = cv2.VideoWriter('myStephenrVideo.mp4',cv2.VideoWriter_fourcc(*'DIVX'),20,(width,height))\n",
    "# mouse callback function\n",
    "def draw_circle(event,x,y,flags,param):\n",
    "\n",
    "    global center,clicked\n",
    "    if event== cv2.EVENT_LBUTTONDOWN:\n",
    "    # get mouse click on down and track center\n",
    "       center = (0,0)\n",
    "       clicked = False\n",
    "    if clicked == False:\n",
    "        center =(x,y)\n",
    "        clicked= True\n",
    "\n",
    "    \n",
    "    # Use boolean variable to track if the mouse has been released\n",
    "\n",
    "        \n",
    "# Haven't drawn anything yet!\n",
    "center = (0,0)\n",
    "clicked = False\n",
    "\n",
    "\n",
    "# Capture Video\n",
    "\n",
    "\n",
    "# Create a named window for connections\n",
    "cv2.namedWindow('round')\n",
    "cv2.setMouseCallback('round',draw_circle)\n",
    "\n",
    "# Bind draw_rectangle function to mouse cliks\n",
    "\n",
    "\n",
    "\n",
    "while True:\n",
    "    # Capture frame-by-frame\n",
    "    ret,frame = cap.read()\n",
    "    \n",
    "    # Use if statement to see if clicked is true\n",
    "    if clicked==True:\n",
    "        # Draw circle on frame\n",
    "        cv2.circle(frame,center=center,radius =50,color=(255,0,0),thickness= 5)\n",
    "        \n",
    "    # Display the resulting frame\n",
    "    writer.write(frame)\n",
    "    cv2.imshow('round',frame)\n",
    "   \n",
    "    if cv2.waitKey(1) & 0XFF== ord('q'):\n",
    "        break\n",
    "    # This command let's us quit with the \"q\" button on a keyboard.\n",
    "    # Simply pressing X on the window won't work!\n",
    "cap.release()\n",
    "writer.release()\n",
    "cv2.destroyAllWindows()\n",
    "\n",
    "# When everything is done, release the capture\n"
   ]
  },
  {
   "cell_type": "code",
   "execution_count": null,
   "metadata": {},
   "outputs": [],
   "source": []
  },
  {
   "cell_type": "code",
   "execution_count": null,
   "metadata": {},
   "outputs": [],
   "source": []
  }
 ],
 "metadata": {
  "kernelspec": {
   "display_name": "Python 3",
   "language": "python",
   "name": "python3"
  },
  "language_info": {
   "codemirror_mode": {
    "name": "ipython",
    "version": 3
   },
   "file_extension": ".py",
   "mimetype": "text/x-python",
   "name": "python",
   "nbconvert_exporter": "python",
   "pygments_lexer": "ipython3",
   "version": "3.6.6"
  }
 },
 "nbformat": 4,
 "nbformat_minor": 4
}
