{
 "cells": [
  {
   "cell_type": "code",
   "execution_count": 3,
   "metadata": {},
   "outputs": [],
   "source": [
    "import cv2\n",
    "\n",
    "cap = cv2.VideoCapture(0)\n",
    "\n",
    "def draw_rect(event,x,y,flag,param):\n",
    "    global pt1,pt2,topLeft_clicked,bottomRight_clicked\n",
    "    if event == cv2.EVENT_LBUTTONDOWN:\n",
    "        if topLeft_clicked == True and bottomRight_clicked== True:\n",
    "            pt1=(0,0)\n",
    "            pt2 = (0,0)\n",
    "            topLeft_clicked = False\n",
    "            bottomRight_clicked = False\n",
    "        if topLeft_clicked == False:\n",
    "            pt1 = (x,y)\n",
    "            topLeft_clicked = True\n",
    "        elif bottomRight_clicked == False:\n",
    "            pt2 =(x,y)\n",
    "            bottomRight_clicked = True\n",
    "            \n",
    "            \n",
    "            \n",
    "#Global Vraibales\n",
    "\n",
    "pt1=(0,0)\n",
    "pt2 = (0,0)\n",
    "topLeft_clicked = False\n",
    "bottomRight_clicked = False\n",
    "\n",
    "#CALL BACK CONNECTION\n",
    "cv2.namedWindow('test',)\n",
    "cv2.setMouseCallback('test',draw_rect)\n",
    "\n",
    "while True:\n",
    "    ret,frame = cap.read()\n",
    "    \n",
    "    if topLeft_clicked:\n",
    "        cv2.circle(frame,center=pt1,radius=5,color=(0,0,255),thickness = -1)\n",
    "        \n",
    "    if topLeft_clicked and bottomRight_clicked:\n",
    "        cv2.rectangle(frame,pt1,pt2,(0,0,255),3)\n",
    "        \n",
    "    cv2.imshow('test',frame)\n",
    "    if cv2.waitKey(1) & 0XFF == ord('q'):\n",
    "        break\n",
    "        \n",
    "cap.release()\n",
    "cv2.destroyAllWindows()"
   ]
  },
  {
   "cell_type": "code",
   "execution_count": null,
   "metadata": {},
   "outputs": [],
   "source": []
  }
 ],
 "metadata": {
  "kernelspec": {
   "display_name": "Python 3",
   "language": "python",
   "name": "python3"
  },
  "language_info": {
   "codemirror_mode": {
    "name": "ipython",
    "version": 3
   },
   "file_extension": ".py",
   "mimetype": "text/x-python",
   "name": "python",
   "nbconvert_exporter": "python",
   "pygments_lexer": "ipython3",
   "version": "3.6.6"
  }
 },
 "nbformat": 4,
 "nbformat_minor": 4
}
