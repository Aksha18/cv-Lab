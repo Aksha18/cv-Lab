{
 "cells": [
  {
   "cell_type": "code",
   "execution_count": 2,
   "metadata": {},
   "outputs": [],
   "source": [
    "import cv2\n",
    "import numpy as np\n",
    "import matplotlib.pyplot as plt\n"
   ]
  },
  {
   "cell_type": "code",
   "execution_count": 3,
   "metadata": {},
   "outputs": [],
   "source": [
    "#setting paramter for shi tomasi corner detection\n",
    "corner_track_params = dict(maxCorners=10,qualityLevel=0.3,minDistance=7,blockSize=7)"
   ]
  },
  {
   "cell_type": "code",
   "execution_count": 4,
   "metadata": {},
   "outputs": [],
   "source": [
    "lk_params = dict(winSize=(200,200),maxLevel = 2,criteria =(cv2.TERM_CRITERIA_EPS | cv2.TERM_CRITERIA_COUNT,10,0.03))"
   ]
  },
  {
   "cell_type": "code",
   "execution_count": null,
   "metadata": {},
   "outputs": [],
   "source": [
    "cap = cv2.VideoCapture(0)\n",
    "\n",
    "ret,prev_frame = cap.read()\n",
    "\n",
    "prev_grey = cv2.cvtColor(prev_frame,cv2.COLOR_BGR2GRAY)\n",
    "\n",
    "#pts to track\n",
    "prevPts = cv2.goodFeaturesToTrack(prev_grey,mask=None,**corner_track_params)\n",
    "\n",
    "mask = np.zeros_like(prev_frame)\n",
    "\n",
    "while True:\n",
    "    ret,frame = cap.read()\n",
    "    frame_grey = cv2.cvtColor(frame,cv2.COLOR_BGR2GRAY)\n",
    "    \n",
    "    #calculating the optical flow on the gray cale frame\n",
    "    \n",
    "    nextPts , status, err = cv2.calcOpticalFlowPyrLK(prev_grey,frame_grey,prevPts,None,**lk_params)\n",
    "    \n",
    "    good_new = nextPts[status==1]\n",
    "    good_prev = prevPts[status==1]\n",
    "    \n",
    "    \n",
    "    for i,(new,prev) in enumerate(zip(good_prev,good_prev)):\n",
    "    \n",
    "      x_new,y_new = new.ravel()\n",
    "      x_prev,y_prev = prev.ravel()\n",
    "      \n",
    "      mask = cv2.line(mask,(x_new,y_new),(x_prev,y_prev),(0,255,0),3)\n",
    "    \n",
    "      frame = cv2.circle(frame,(x_new,y_new),8,(0,0,255),-1)\n",
    "        \n",
    "      img = cv2.add(frame,mask)\n",
    "      cv2.imshow('tracking',img)\n",
    "        \n",
    "      k = cv2.waitKey(1) & 0xFF\n",
    "      if k == 27:\n",
    "        break\n",
    "      \n",
    "      prev_grey = frame_grey.copy()\n",
    "        \n",
    "      prevPts = good_new.reshape(-1,1,2)\n",
    "\n",
    "cv2.destroyAllWindows()\n",
    "cap.release()"
   ]
  },
  {
   "cell_type": "code",
   "execution_count": null,
   "metadata": {},
   "outputs": [],
   "source": []
  },
  {
   "cell_type": "code",
   "execution_count": null,
   "metadata": {},
   "outputs": [],
   "source": []
  }
 ],
 "metadata": {
  "kernelspec": {
   "display_name": "Python 3",
   "language": "python",
   "name": "python3"
  },
  "language_info": {
   "codemirror_mode": {
    "name": "ipython",
    "version": 3
   },
   "file_extension": ".py",
   "mimetype": "text/x-python",
   "name": "python",
   "nbconvert_exporter": "python",
   "pygments_lexer": "ipython3",
   "version": "3.6.6"
  }
 },
 "nbformat": 4,
 "nbformat_minor": 4
}
